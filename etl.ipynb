{
 "cells": [
  {
   "cell_type": "code",
   "execution_count": 2,
   "metadata": {},
   "outputs": [],
   "source": [
    "import configparser\n",
    "import psycopg2\n",
    "from sql_queries import copy_table_queries, insert_table_queries\n",
    "\n",
    "def load_staging_tables(cur, conn):\n",
    "    '''Loads the event and songs staging tables from s3 buckets \n",
    "       by executing queries in copy_table_queries array'''\n",
    "    for query in copy_table_queries:\n",
    "        cur.execute(query)\n",
    "        conn.commit()\n",
    "\n",
    "\n",
    "def insert_tables(cur, conn):\n",
    "    '''Loads the fact and dimension tables from the staging tables\n",
    "       by executing queries in insert_table_queries array'''\n",
    "    for query in insert_table_queries:\n",
    "        cur.execute(query)\n",
    "        conn.commit()\n",
    "\n",
    "def printOutput(cur):\n",
    "    '''Prints output after the load is complete'''\n",
    "    staging_events_table_select = \"SELECT COUNT(*) FROM staging_events;\"\n",
    "    staging_songs_table_select = \"SELECT COUNT(*) FROM staging_songs\"\n",
    "    songplay_table_select = \"SELECT COUNT(*) FROM songplay\"\n",
    "    user_table_select = \"SELECT COUNT(*) FROM users\"\n",
    "    song_table_select = \"SELECT COUNT(*) FROM songs\"\n",
    "    artist_table_select = \"SELECT COUNT(*) FROM artists\"\n",
    "    time_table_select = \"SELECT COUNT(*) FROM time\" \n",
    "    select_table_queries =[staging_events_table_select, staging_songs_table_select, songplay_table_select, user_table_select, song_table_select, artist_table_select, time_table_select]\n",
    "    for query in select_table_queries:\n",
    "        print(query)\n",
    "        cur.execute(query)\n",
    "        print(cur.fetchall()[0][0])       "
   ]
  },
  {
   "cell_type": "code",
   "execution_count": 4,
   "metadata": {},
   "outputs": [
    {
     "name": "stdout",
     "output_type": "stream",
     "text": [
      "host=mydwhcluster.cb0dgk0woqq1.us-east-1.redshift.amazonaws.com dbname=dev user=awsuser password=Jishnu8703 port=5439\n",
      "SELECT COUNT(*) FROM staging_events;\n",
      "8056\n",
      "SELECT COUNT(*) FROM staging_songs\n"
     ]
    }
   ],
   "source": [
    "def main():\n",
    "    '''Loads the staging, fact and dimension tables \n",
    "       by executing load_staging_tables and insert_tables functions'''\n",
    "    config = configparser.ConfigParser()\n",
    "    config.read('dwh.cfg')\n",
    "\n",
    "    conn = psycopg2.connect(\"host={} dbname={} user={} password={} port={}\".format(*config['CLUSTER'].values()))\n",
    "    cur = conn.cursor()\n",
    "    \n",
    "    # load_staging_tables(cur, conn)\n",
    "    # insert_tables(cur, conn)\n",
    "    print(\"host={} dbname={} user={} password={} port={}\".format(*config['CLUSTER'].values()))\n",
    "    printOutput(cur)\n",
    "    conn.close()\n",
    "main()"
   ]
  }
 ],
 "metadata": {
  "kernelspec": {
   "display_name": "Python 3",
   "language": "python",
   "name": "python3"
  },
  "language_info": {
   "codemirror_mode": {
    "name": "ipython",
    "version": 3
   },
   "file_extension": ".py",
   "mimetype": "text/x-python",
   "name": "python",
   "nbconvert_exporter": "python",
   "pygments_lexer": "ipython3",
   "version": "3.9.13"
  },
  "orig_nbformat": 4
 },
 "nbformat": 4,
 "nbformat_minor": 2
}
